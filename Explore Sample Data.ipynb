{
 "cells": [
  {
   "cell_type": "code",
   "execution_count": 2,
   "metadata": {},
   "outputs": [],
   "source": [
    "import pandas as pd \n",
    "import numpy as np"
   ]
  },
  {
   "cell_type": "code",
   "execution_count": 4,
   "metadata": {},
   "outputs": [],
   "source": [
    "train_df = pd.read_csv(\"./data/conversation/sample_train.csv\")"
   ]
  },
  {
   "cell_type": "code",
   "execution_count": 14,
   "metadata": {},
   "outputs": [
    {
     "name": "stdout",
     "output_type": "stream",
     "text": [
      "Story: <title> 301 moved permanently </title> <h1> moved permanently </h1> <p> the document has moved here . </p> \n",
      "\n",
      "Query: harper government doesn ’ t understand importance of science \n",
      "\n",
      "Response: wait doesn't this mean more funding for universities ? also isn't the role of universities to provide cutting edge research for the country ? why have a separate institution ? \n",
      "\n"
     ]
    }
   ],
   "source": [
    "entry = train_df.sample(n=1).iloc[0]\n",
    "print(\"Story:\", entry[\"story\"], \"\\n\")\n",
    "print(\"Query:\", entry[\"query\"], \"\\n\")\n",
    "print(\"Response:\", entry[\"response\"], \"\\n\")"
   ]
  },
  {
   "cell_type": "code",
   "execution_count": null,
   "metadata": {},
   "outputs": [],
   "source": []
  }
 ],
 "metadata": {
  "kernelspec": {
   "display_name": "Python 3",
   "language": "python",
   "name": "python3"
  },
  "language_info": {
   "codemirror_mode": {
    "name": "ipython",
    "version": 3
   },
   "file_extension": ".py",
   "mimetype": "text/x-python",
   "name": "python",
   "nbconvert_exporter": "python",
   "pygments_lexer": "ipython3",
   "version": "3.8.10"
  }
 },
 "nbformat": 4,
 "nbformat_minor": 4
}
