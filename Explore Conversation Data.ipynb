{
 "cells": [
  {
   "cell_type": "code",
   "execution_count": 1,
   "metadata": {},
   "outputs": [],
   "source": [
    "import os \n",
    "import pandas as pd"
   ]
  },
  {
   "cell_type": "code",
   "execution_count": 3,
   "metadata": {},
   "outputs": [
    {
     "name": "stdout",
     "output_type": "stream",
     "text": [
      "107138\n"
     ]
    },
    {
     "data": {
      "text/html": [
       "<div>\n",
       "<style scoped>\n",
       "    .dataframe tbody tr th:only-of-type {\n",
       "        vertical-align: middle;\n",
       "    }\n",
       "\n",
       "    .dataframe tbody tr th {\n",
       "        vertical-align: top;\n",
       "    }\n",
       "\n",
       "    .dataframe thead th {\n",
       "        text-align: right;\n",
       "    }\n",
       "</style>\n",
       "<table border=\"1\" class=\"dataframe\">\n",
       "  <thead>\n",
       "    <tr style=\"text-align: right;\">\n",
       "      <th></th>\n",
       "      <th>id</th>\n",
       "      <th>story</th>\n",
       "      <th>query</th>\n",
       "      <th>response</th>\n",
       "    </tr>\n",
       "  </thead>\n",
       "  <tbody>\n",
       "    <tr>\n",
       "      <th>0</th>\n",
       "      <td>jaiwe</td>\n",
       "      <td>&lt;title&gt; batman : the animated series - wikiped...</td>\n",
       "      <td>... been graced with . EOS it got worse over t...</td>\n",
       "      <td>you're right but i like how bruce escapes from...</td>\n",
       "    </tr>\n",
       "    <tr>\n",
       "      <th>1</th>\n",
       "      <td>kve4a</td>\n",
       "      <td>&lt;title&gt; dr pepper - wikipedia , the free encyc...</td>\n",
       "      <td>START EOS til that dr pepper is bottled by bot...</td>\n",
       "      <td>it's still bottled by dp in texas , dunno abou...</td>\n",
       "    </tr>\n",
       "    <tr>\n",
       "      <th>2</th>\n",
       "      <td>jr6gl</td>\n",
       "      <td>&lt;title&gt; resident evil ( film ) - wikipedia , t...</td>\n",
       "      <td>START EOS til george a . romero , inventor of ...</td>\n",
       "      <td>i like the original script for [ day of the de...</td>\n",
       "    </tr>\n",
       "    <tr>\n",
       "      <th>3</th>\n",
       "      <td>ia87x</td>\n",
       "      <td>&lt;title&gt; guy ritchie - wikipedia , the free enc...</td>\n",
       "      <td>START EOS til guy ritchie got circumcised beca...</td>\n",
       "      <td>someone posts a fact with citations , gets dow...</td>\n",
       "    </tr>\n",
       "    <tr>\n",
       "      <th>4</th>\n",
       "      <td>q7chd</td>\n",
       "      <td>&lt;title&gt; the offspring - wikipedia , the free e...</td>\n",
       "      <td>START EOS til that noodles , guitarist in the ...</td>\n",
       "      <td>or like the offspring's facebook , it's linked...</td>\n",
       "    </tr>\n",
       "  </tbody>\n",
       "</table>\n",
       "</div>"
      ],
      "text/plain": [
       "      id                                              story  \\\n",
       "0  jaiwe  <title> batman : the animated series - wikiped...   \n",
       "1  kve4a  <title> dr pepper - wikipedia , the free encyc...   \n",
       "2  jr6gl  <title> resident evil ( film ) - wikipedia , t...   \n",
       "3  ia87x  <title> guy ritchie - wikipedia , the free enc...   \n",
       "4  q7chd  <title> the offspring - wikipedia , the free e...   \n",
       "\n",
       "                                               query  \\\n",
       "0  ... been graced with . EOS it got worse over t...   \n",
       "1  START EOS til that dr pepper is bottled by bot...   \n",
       "2  START EOS til george a . romero , inventor of ...   \n",
       "3  START EOS til guy ritchie got circumcised beca...   \n",
       "4  START EOS til that noodles , guitarist in the ...   \n",
       "\n",
       "                                            response  \n",
       "0  you're right but i like how bruce escapes from...  \n",
       "1  it's still bottled by dp in texas , dunno abou...  \n",
       "2  i like the original script for [ day of the de...  \n",
       "3  someone posts a fact with citations , gets dow...  \n",
       "4  or like the offspring's facebook , it's linked...  "
      ]
     },
     "execution_count": 3,
     "metadata": {},
     "output_type": "execute_result"
    }
   ],
   "source": [
    "train_df = pd.read_csv(\"./data/conversation/train.csv\")\n",
    "print(len(train_df))\n",
    "train_df.head()"
   ]
  },
  {
   "cell_type": "code",
   "execution_count": 4,
   "metadata": {},
   "outputs": [
    {
     "data": {
      "text/plain": [
       "17752"
      ]
     },
     "execution_count": 4,
     "metadata": {},
     "output_type": "execute_result"
    }
   ],
   "source": [
    "len(train_df.iloc[0][\"story\"].split(\" \"))"
   ]
  },
  {
   "cell_type": "code",
   "execution_count": 5,
   "metadata": {},
   "outputs": [
    {
     "data": {
      "text/plain": [
       "\"... been graced with . EOS it got worse over time . the first season is chalk full of dark , serious stories that don't always end pleasantly . by the third season , the animation style had become noticeably more cartoonish and the plots more childish . the last one i could stand to watch was were batman fights bane . EOS chalk full ? well , that is dark , now isn't it ? i'm honestly not surprised about the correlation between them all . there was certainly a similar style linking batman and big o and another similarity between big o and cowboy bebop . now as for the quality of batman , i lost interest in the episode where the mad hatter has him in a dream world , and bruce figures it out because he couldn't read a letter . the reasoning being that the part of the brain that forms the letters and numbers we see is not active during dreams . well , i call bullshit because i can read things just fine when i dream . the show had always been intelligent , but they were grasping for straws with that one .\""
      ]
     },
     "execution_count": 5,
     "metadata": {},
     "output_type": "execute_result"
    }
   ],
   "source": [
    "train_df.iloc[0][\"query\"]"
   ]
  },
  {
   "cell_type": "code",
   "execution_count": 6,
   "metadata": {},
   "outputs": [
    {
     "data": {
      "text/plain": [
       "\"you're right but i like how bruce escapes from his dream in that episode , by throwing himself off the top a tower . batception !\""
      ]
     },
     "execution_count": 6,
     "metadata": {},
     "output_type": "execute_result"
    }
   ],
   "source": [
    "train_df.iloc[0][\"response\"]"
   ]
  },
  {
   "cell_type": "markdown",
   "metadata": {},
   "source": [
    "# Investigate problem of massive story"
   ]
  },
  {
   "cell_type": "code",
   "execution_count": 7,
   "metadata": {},
   "outputs": [],
   "source": [
    "from sklearn.model_selection import train_test_split"
   ]
  },
  {
   "cell_type": "code",
   "execution_count": 8,
   "metadata": {},
   "outputs": [],
   "source": [
    "story_lengths = train_df[\"story\"].apply(lambda s: len(s.split(\" \")))\n",
    "query_lengths = train_df[\"query\"].apply(lambda s: len(s.split(\" \")))\n",
    "response_lengths = train_df[\"response\"].apply(lambda s: len(s.split(\" \")))"
   ]
  },
  {
   "cell_type": "code",
   "execution_count": 24,
   "metadata": {},
   "outputs": [
    {
     "name": "stdout",
     "output_type": "stream",
     "text": [
      "# train samples: 1296\n",
      "# test samples: 432\n",
      "response max len: 63\n",
      "query max len 394\n",
      "story max len 486\n"
     ]
    }
   ],
   "source": [
    "max_length = 500\n",
    "min_length = 10 \n",
    "b_mask = [True * len(train_df)]\n",
    "for lengths in [story_lengths, query_lengths, response_lengths]:\n",
    "    b_mask = b_mask & (lengths <= max_length) & (lengths >= min_length)\n",
    "sample_data = train_df[b_mask].reset_index(drop=True)\n",
    "sample_data[\"query\"] = sample_data[\"query\"].apply(lambda q: q.replace(\"START\", \"\").replace(\"EOS\", \"\").strip())\n",
    "sample_train, sample_test = train_test_split(sample_data, shuffle=True)\n",
    "sample_train.to_csv(\"./data/conversation/sample_train.csv\")\n",
    "sample_test.to_csv(\"./data/conversation/sample_test.csv\")\n",
    "\n",
    "print(\"# train samples:\", len(sample_train))\n",
    "print(\"# test samples:\", len(sample_test))\n",
    "print(\"response max len:\", sample_data[\"response\"].apply(lambda s: len(s.split(\" \"))).max())\n",
    "print(\"query max len\", sample_data[\"query\"].apply(lambda s: len(s.split(\" \"))).max())\n",
    "print(\"story max len\", sample_data[\"story\"].apply(lambda s: len(s.split(\" \"))).max())"
   ]
  },
  {
   "cell_type": "code",
   "execution_count": 25,
   "metadata": {},
   "outputs": [
    {
     "data": {
      "text/plain": [
       "\"<title> giant rats put noses to work on africa's land mine epidemic - cnn.com </title>\""
      ]
     },
     "execution_count": 25,
     "metadata": {},
     "output_type": "execute_result"
    }
   ],
   "source": [
    "sample_train.iloc[0]['story']"
   ]
  },
  {
   "cell_type": "code",
   "execution_count": 26,
   "metadata": {},
   "outputs": [
    {
     "data": {
      "text/plain": [
       "\"til rats are can be trained to sniff out landmines  yeah ! those giant ass egyptian rats right ? ! they're too light to set off the mine so it works\""
      ]
     },
     "execution_count": 26,
     "metadata": {},
     "output_type": "execute_result"
    }
   ],
   "source": [
    "sample_train.iloc[0]['query']"
   ]
  },
  {
   "cell_type": "code",
   "execution_count": 27,
   "metadata": {},
   "outputs": [
    {
     "data": {
      "text/plain": [
       "'i misread \" light \" for \" tight \" and stared to the side of my screen for a good 30 seconds thinking about what you could possibly mean then i glanced back and had an \" aha ! \" moment = o'"
      ]
     },
     "execution_count": 27,
     "metadata": {},
     "output_type": "execute_result"
    }
   ],
   "source": [
    "sample_train.iloc[0]['response']"
   ]
  },
  {
   "cell_type": "code",
   "execution_count": 28,
   "metadata": {},
   "outputs": [
    {
     "data": {
      "text/plain": [
       "17       1509\n",
       "14389    1125\n",
       "23098     795\n",
       "1466      773\n",
       "16377     667\n",
       "         ... \n",
       "8246        1\n",
       "4664        1\n",
       "9913        1\n",
       "5688        1\n",
       "3725        1\n",
       "Name: story, Length: 2668, dtype: int64"
      ]
     },
     "execution_count": 28,
     "metadata": {},
     "output_type": "execute_result"
    }
   ],
   "source": [
    "story_lengths.value_counts()"
   ]
  },
  {
   "cell_type": "code",
   "execution_count": null,
   "metadata": {},
   "outputs": [],
   "source": []
  }
 ],
 "metadata": {
  "kernelspec": {
   "display_name": "Python 3",
   "language": "python",
   "name": "python3"
  },
  "language_info": {
   "codemirror_mode": {
    "name": "ipython",
    "version": 3
   },
   "file_extension": ".py",
   "mimetype": "text/x-python",
   "name": "python",
   "nbconvert_exporter": "python",
   "pygments_lexer": "ipython3",
   "version": "3.8.10"
  }
 },
 "nbformat": 4,
 "nbformat_minor": 4
}
